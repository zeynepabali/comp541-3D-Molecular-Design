{
 "cells": [
  {
   "cell_type": "markdown",
   "id": "15373318",
   "metadata": {},
   "source": [
    "## Baseline Model - OPT Implementation"
   ]
  },
  {
   "cell_type": "markdown",
   "id": "095c7988",
   "metadata": {},
   "source": [
    "Check if necessary packages are installed and import."
   ]
  },
  {
   "cell_type": "code",
   "execution_count": 1,
   "id": "3e83fd4e",
   "metadata": {},
   "outputs": [
    {
     "name": "stderr",
     "output_type": "stream",
     "text": [
      "┌ Warning: Pkg.installed() is deprecated\n",
      "└ @ Pkg /buildworker/worker/package_linux64/build/usr/share/julia/stdlib/v1.6/Pkg/src/Pkg.jl:570\n",
      "┌ Warning: Pkg.installed() is deprecated\n",
      "└ @ Pkg /buildworker/worker/package_linux64/build/usr/share/julia/stdlib/v1.6/Pkg/src/Pkg.jl:570\n",
      "┌ Warning: Pkg.installed() is deprecated\n",
      "└ @ Pkg /buildworker/worker/package_linux64/build/usr/share/julia/stdlib/v1.6/Pkg/src/Pkg.jl:570\n"
     ]
    }
   ],
   "source": [
    "using Pkg\n",
    " for p in (\"ArgParse\", \"Knet\", \"AutoGrad\")\n",
    "    if !haskey(Pkg.installed(),p)\n",
    "        Pkg.add(p)\n",
    "    end\n",
    " end\n",
    "    \n",
    "using ArgParse, Knet, AutoGrad, Statistics"
   ]
  },
  {
   "cell_type": "markdown",
   "id": "e122d342",
   "metadata": {},
   "source": [
    "Give the bag of elements as a string and define a empty canvas"
   ]
  },
  {
   "cell_type": "code",
   "execution_count": 91,
   "id": "8c24dd9e",
   "metadata": {},
   "outputs": [],
   "source": [
    "B = \"H3C4O1\";\n",
    "C = [];"
   ]
  },
  {
   "cell_type": "markdown",
   "id": "b8548304",
   "metadata": {},
   "source": [
    "Below is an array of *test_bags* provided in the paper. I will use these for testing purposes as well for the implementation of the OPT agent."
   ]
  },
  {
   "cell_type": "code",
   "execution_count": 96,
   "id": "8fcb853c",
   "metadata": {},
   "outputs": [
    {
     "data": {
      "text/plain": [
       "9-element Vector{String}:\n",
       " \"C3H5NO3\"\n",
       " \"C4H7N\"\n",
       " \"C3H8O\"\n",
       " \"C7H10O2\"\n",
       " \"C7H8N2O2\"\n",
       " \"C7H10O2\"\n",
       " \"C7H8N2O2\"\n",
       " \"C7H10O2\"\n",
       " \"C7H8N2O2\""
      ]
     },
     "execution_count": 96,
     "metadata": {},
     "output_type": "execute_result"
    }
   ],
   "source": [
    "test_bags = [\"C3H5NO3\", \"C4H7N\", \"C3H8O\", \"C7H10O2\", \"C7H8N2O2\", \"C7H10O2\", \"C7H8N2O2\", \"C7H10O2\", \"C7H8N2O2\"]"
   ]
  },
  {
   "cell_type": "markdown",
   "id": "ef2e91da",
   "metadata": {},
   "source": [
    "*get_bag_from_string* converts a string into an array of elements, taking into account the count for each element"
   ]
  },
  {
   "cell_type": "code",
   "execution_count": 186,
   "id": "cd70f9bf",
   "metadata": {},
   "outputs": [],
   "source": [
    "function get_bag_from_string(B)\n",
    "    \n",
    "    bag = String[]\n",
    "    \n",
    "    for i = firstindex(B):lastindex(B)\n",
    "        \n",
    "        curr_char = string(B[i][1])\n",
    "        \n",
    "        if !isnumeric(B[i])\n",
    "            \n",
    "            push!(bag, curr_char)\n",
    "            global last_char = curr_char  # Why is global necessary in this case?\n",
    "            \n",
    "        else\n",
    "        \n",
    "            char_count = parse(Int, B[i])\n",
    "    \n",
    "            for _ = 1:char_count - 1\n",
    "                push!(bag, last_char)\n",
    "            end\n",
    "        end\n",
    "        \n",
    "    end\n",
    "    \n",
    "    return bag\n",
    "    \n",
    "end;"
   ]
  },
  {
   "cell_type": "markdown",
   "id": "595ce730",
   "metadata": {},
   "source": [
    "Let's try to parse the test bags, and see if there are any issues"
   ]
  },
  {
   "cell_type": "code",
   "execution_count": 187,
   "id": "4e85866a",
   "metadata": {},
   "outputs": [
    {
     "name": "stdout",
     "output_type": "stream",
     "text": [
      "C3H5NO3     [\"C\", \"C\", \"C\", \"H\", \"H\", \"H\", \"H\", \"H\", \"N\", \"O\", \"O\", \"O\"]\n",
      "C4H7N       [\"C\", \"C\", \"C\", \"C\", \"H\", \"H\", \"H\", \"H\", \"H\", \"H\", \"H\", \"N\"]\n",
      "C3H8O       [\"C\", \"C\", \"C\", \"H\", \"H\", \"H\", \"H\", \"H\", \"H\", \"H\", \"H\", \"O\"]\n",
      "C7H10O2     [\"C\", \"C\", \"C\", \"C\", \"C\", \"C\", \"C\", \"H\", \"O\", \"O\"]\n",
      "C7H8N2O2    [\"C\", \"C\", \"C\", \"C\", \"C\", \"C\", \"C\", \"H\", \"H\", \"H\", \"H\", \"H\", \"H\", \"H\", \"H\", \"N\", \"N\", \"O\", \"O\"]\n",
      "C7H10O2     [\"C\", \"C\", \"C\", \"C\", \"C\", \"C\", \"C\", \"H\", \"O\", \"O\"]\n",
      "C7H8N2O2    [\"C\", \"C\", \"C\", \"C\", \"C\", \"C\", \"C\", \"H\", \"H\", \"H\", \"H\", \"H\", \"H\", \"H\", \"H\", \"N\", \"N\", \"O\", \"O\"]\n",
      "C7H10O2     [\"C\", \"C\", \"C\", \"C\", \"C\", \"C\", \"C\", \"H\", \"O\", \"O\"]\n",
      "C7H8N2O2    [\"C\", \"C\", \"C\", \"C\", \"C\", \"C\", \"C\", \"H\", \"H\", \"H\", \"H\", \"H\", \"H\", \"H\", \"H\", \"N\", \"N\", \"O\", \"O\"]\n"
     ]
    }
   ],
   "source": [
    "for i in test_bags\n",
    "    println(rpad(i, 12), get_bag_from_string(i))\n",
    "end"
   ]
  },
  {
   "cell_type": "markdown",
   "id": "301ff2a0",
   "metadata": {},
   "source": [
    "Here **OPT** stands for an **optimal** agent. In this case there is no learning involved, but the atoms are placed on the **Canvas (C)** in a way that is physically optimal chosen from the **Bag (B)**. The implementation of OPT agent works as below (This is directly taken from the appendix of the paper):\n",
    "\n",
    "1. If the canvas $\\mathcal{C}_t$ is not empty, randomly choose a focal atom $f$ from the list of available atoms on the canvas. An atom is considered available if its number of neighbors is less than a predefined number that depends on its element (e.g., one for hydrogen and four for carbon). Two atoms on the canvas are neighbors if their Euclidean distance is below 1.5 $\\overset{\\circ}{\\textbf{A}}$. If there are no available atoms on the canvas, a focal atom is randomly chosen from the list of atoms on the canvas.\n",
    "\n",
    "2. Randomly choose an element $e_t$ from the bag $\\mathcal{B}_t$.\n",
    "\n",
    "3. Randomly place the atom $a_t = (e_t, x_t)$ on a sphere with a radial distance $d = 1.1 \\overset{\\circ}{\\textbf{A}}$ around $x_f$ to obtain $\\mathcal{C}_{t+1,\\text{raw}}$. If the canvas is empty, place the atom at the origin.\n",
    "\n",
    "4. Optimize only the position of $a_t$ using $F$ to obtain $\\mathcal{C}_{t+1,\\text{opt}}$.\n",
    "\n",
    "5. Compute the energy difference $\\Delta E(t) = E( \\mathcal{C}_{t+1,\\text{opt}} ) - [E( \\mathcal{C}_t ) + E(\\{e_t, 0\\})]$.\n",
    "\n",
    "6. If $\\Delta E(t) > 0$, return $e_t$ to the bag and go back to step 1.\n",
    "\n",
    "7. Optimize canvas $\\mathcal{C}_{t+1,\\text{opt}}$ using $F$ to obtain $\\mathcal{C}_{t+1}$.\n",
    "\n",
    "8. Increment $t$ by 1.\n",
    "\n",
    "9. If the bag is not empty, go back to step 1.\n"
   ]
  },
  {
   "cell_type": "markdown",
   "id": "79bdf7e1",
   "metadata": {},
   "source": [
    "Let's start with implementation of random selection of atoms from the bag. First we need to define the maximum number of neighbors each element type can have:"
   ]
  },
  {
   "cell_type": "code",
   "execution_count": 188,
   "id": "bf653035",
   "metadata": {},
   "outputs": [],
   "source": [
    "max_neighbor = Dict(\"C\" => 4, \"H\" => 1, \"O\" => 2, \"N\" => 3);"
   ]
  },
  {
   "cell_type": "code",
   "execution_count": 205,
   "id": "bd7fa7bc",
   "metadata": {},
   "outputs": [
    {
     "data": {
      "text/plain": [
       "Any[]"
      ]
     },
     "execution_count": 205,
     "metadata": {},
     "output_type": "execute_result"
    }
   ],
   "source": [
    "C = [];\n",
    "bag_of_atoms = get_bag_from_string(test_bags[1]);\n",
    "neighbor_dict = Dict();\n",
    "c_selectable = []"
   ]
  },
  {
   "cell_type": "code",
   "execution_count": 206,
   "id": "84650f3f",
   "metadata": {},
   "outputs": [],
   "source": [
    "# This whole cell should be an iterator in the future!\n",
    "\n",
    "if length(C) == 0 && length(bag_of_atoms) > 0\n",
    "    \n",
    "    b_idx = rand(1:length(bag_of_atoms))\n",
    "    push!(C, (length(C) + 1, bag_of_atoms[idx]))\n",
    "    push!(c_selectable, C[end])\n",
    "    deleteat!(bag_of_atoms, b_idx)\n",
    "    neigbor_dict[length(C)] = 0\n",
    "    \n",
    "elseif length(C) > 0 && length(bag_of_atoms) > 0\n",
    "    \n",
    "    c_idx = rand(1:length(c_selectable))\n",
    "    max_n = max_neighbor[c_selectable[c_idx][2]]\n",
    "    curr_n = neighbor_dict[c_selectable[c_idx][1]]\n",
    "    \n",
    "    #####\n",
    "    \n",
    "    b_idx = rand(1:length(bag_of_atoms))\n",
    "    push!(C, (length(C) + 1, bag_of_atoms[idx]))\n",
    "    deleteat!(bag_of_atoms, b_idx)\n",
    "    neigbor_dict[length(C)] = 0\n",
    "\n",
    "elseif length(C) > 0 && length(bag_of_atoms) == 0\n",
    "    println(\"No more atoms left in the bag!\")\n",
    "    \n",
    "elseif length(c_selectable) < 1 && length(bag_of_atoms) > 0:\n",
    "    println(\"Impossible configuration of atoms!\")\n",
    "    \n",
    "else length(C) <= 0 && length(bag_of_atoms) <= 0\n",
    "    println(\"No atoms found in the Canvas and Bag!\")    \n",
    "    \n",
    "end;"
   ]
  },
  {
   "cell_type": "code",
   "execution_count": 229,
   "id": "0c3fea52",
   "metadata": {},
   "outputs": [
    {
     "data": {
      "text/plain": [
       "1-element Vector{Any}:\n",
       " (1, \"O\")"
      ]
     },
     "execution_count": 229,
     "metadata": {},
     "output_type": "execute_result"
    }
   ],
   "source": [
    "C"
   ]
  },
  {
   "cell_type": "code",
   "execution_count": null,
   "id": "6a968efb",
   "metadata": {},
   "outputs": [],
   "source": [
    "\"\"\"\" def generate_fibonacci_grid(n: int) -> np.ndarray:\n",
    "    # Based on: http://extremelearning.com.au/how-to-evenly-distribute-points-on-a-sphere-more-effectively-than-the-canonical-fibonacci-lattice/\n",
    "    golden_ratio = (1 + 5**0.5) / 2\n",
    "    offset = 0.5\n",
    "\n",
    "    index = np.arange(0, n)\n",
    "    theta = np.arccos(1 - 2 * (index + offset) / n)\n",
    "    phi = 2 * np.pi * index / golden_ratio\n",
    "\n",
    "    theta_phi = np.stack([theta, phi], axis=-1)\n",
    "\n",
    "    return spherical_to_cartesian(theta_phi)\n",
    "\n",
    "\n",
    "def spherical_to_cartesian(theta_phi: np.ndarray) -> np.ndarray:\n",
    "    theta, phi = theta_phi[..., 0], theta_phi[..., 1]\n",
    "    x = np.sin(theta) * np.cos(phi)\n",
    "    y = np.sin(theta) * np.sin(phi)\n",
    "    z = np.cos(theta)\n",
    "    return np.stack([x, y, z], axis=-1)\n",
    "\n",
    "\n",
    "def cartesian_to_spherical(pos: np.ndarray) -> np.ndarray:\n",
    "    theta_phi = np.empty(shape=pos.shape[:-1] + (2, ))\n",
    "\n",
    "    x, y, z = pos[..., 0], pos[..., 1], pos[..., 2]\n",
    "    r = np.linalg.norm(pos, axis=-1)\n",
    "    theta_phi[..., 0] = np.arccos(z / r)  # theta\n",
    "    theta_phi[..., 1] = np.arctan2(y, x)  # phi\n",
    "\n",
    "    return theta_phi \"\"\""
   ]
  }
 ],
 "metadata": {
  "kernelspec": {
   "display_name": "Julia 1.6.3",
   "language": "julia",
   "name": "julia-1.6"
  },
  "language_info": {
   "file_extension": ".jl",
   "mimetype": "application/julia",
   "name": "julia",
   "version": "1.6.3"
  }
 },
 "nbformat": 4,
 "nbformat_minor": 5
}
