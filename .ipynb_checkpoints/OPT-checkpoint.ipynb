{
 "cells": [
  {
   "cell_type": "markdown",
   "id": "15373318",
   "metadata": {},
   "source": [
    "## Baseline Model - OPT Implementation"
   ]
  },
  {
   "cell_type": "markdown",
   "id": "6d770275",
   "metadata": {},
   "source": [
    "Check i"
   ]
  },
  {
   "cell_type": "code",
   "execution_count": null,
   "id": "3e83fd4e",
   "metadata": {},
   "outputs": [],
   "source": []
  }
 ],
 "metadata": {
  "kernelspec": {
   "display_name": "Julia 1.6.3",
   "language": "julia",
   "name": "julia-1.6"
  },
  "language_info": {
   "file_extension": ".jl",
   "mimetype": "application/julia",
   "name": "julia",
   "version": "1.6.3"
  }
 },
 "nbformat": 4,
 "nbformat_minor": 5
}
